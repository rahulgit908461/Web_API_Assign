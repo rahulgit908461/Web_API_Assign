{
 "cells": [
  {
   "cell_type": "code",
   "execution_count": 1,
   "id": "9e7d12ae-8656-4d23-a8ab-0e39c8c175fd",
   "metadata": {},
   "outputs": [],
   "source": [
    "#Q1. What is an API? Give an example, where an API is used in real life."
   ]
  },
  {
   "cell_type": "code",
   "execution_count": 2,
   "id": "6433d7a7-b4d8-45ff-a254-ad977ce68d57",
   "metadata": {},
   "outputs": [],
   "source": [
    "#APIs are used in web applications to connect user-facing front ends with critical back-end functionality and \n",
    "#data. APIs are used to deliver material by streaming services such as Spotify and Netflix. APIs are used by \n",
    "#automakers such as Tesla to provide software upgrades.\n",
    "#An application programming interface, or API, enables companies to open up their applications' data and\n",
    "#functionality to external third-party developers, business partners, and internal departments within their\n",
    "#companies."
   ]
  },
  {
   "cell_type": "code",
   "execution_count": 3,
   "id": "1047c9af-94a9-4a89-adce-9aae3c3ab48f",
   "metadata": {},
   "outputs": [],
   "source": [
    "# Q2. Give advantages and disadvantages of using API."
   ]
  },
  {
   "cell_type": "code",
   "execution_count": 6,
   "id": "802d1dd7-e299-42db-b885-efb531b57a76",
   "metadata": {},
   "outputs": [],
   "source": [
    "# Advantages-APIs empower developers to be more productive by reusing code in complex but repetitive processes. \n",
    "#They don't need to start from scratch as the API specifies how to assemble software components in a program. \n",
    "#APIs exist to make it easy to interface with other developers' applications.\n",
    "#However, there are some potential disadvantages to using an API web-server interface that should be considered \n",
    "#before making the decision to use one. These include the potential for security risks, the need for specialized\n",
    "#knowledge, and the potential for compatibility issues."
   ]
  },
  {
   "cell_type": "code",
   "execution_count": 5,
   "id": "befa3a48-6268-42e7-aaff-4b3981450ef0",
   "metadata": {},
   "outputs": [],
   "source": [
    "#Q3. What is a Web API? Differentiate between API and Web API."
   ]
  },
  {
   "cell_type": "code",
   "execution_count": 8,
   "id": "ff48e850-cee4-4569-9cee-4c28713f0adc",
   "metadata": {},
   "outputs": [],
   "source": [
    "#API stands for Application Programming Interface. A Web API is an application programming interface for the Web.\n",
    "#A Browser API can extend the functionality of a web browser.\n",
    "#API is an interface that exposes an application's data to outside software, whereas web applications are one \n",
    "#type of API with stricter requirements. These requirements include network communication, SOAP as the primary \n",
    "#protocol, and less accessibility for the public."
   ]
  },
  {
   "cell_type": "code",
   "execution_count": 9,
   "id": "c5d9b64a-768d-41e1-8aac-4dd7efc40412",
   "metadata": {},
   "outputs": [],
   "source": [
    "#Q4. Explain REST and SOAP Architecture. Mention shortcomings of SOAP."
   ]
  },
  {
   "cell_type": "code",
   "execution_count": 11,
   "id": "cc761e9d-fe30-415d-bbab-1059ea49cf7c",
   "metadata": {},
   "outputs": [],
   "source": [
    "#REST is a set of guidelines that offers flexible implementation, whereas SOAP is a protocol with specific \n",
    "#requirements like XML messaging. REST APIs are lightweight, making them ideal for newer contexts like the \n",
    "#Internet of Things (IoT), mobile application development, and serverless computing.\n",
    "#Shortcoming of SOAP-SOAP is used only XML format data in web service, whereas JSON and other lightweight formats \n",
    "#are not supported by it.\n",
    "#It is slow because it uses XML format, whereas the payload for a simple string message is large.\n",
    "#There are no security features in the SOAP specification."
   ]
  },
  {
   "cell_type": "code",
   "execution_count": 12,
   "id": "903335f3-d83f-4eb4-a253-8e258bffcf03",
   "metadata": {},
   "outputs": [],
   "source": [
    "#Q5. Differentiate between REST and SOAP."
   ]
  },
  {
   "cell_type": "code",
   "execution_count": 13,
   "id": "f377430d-5bef-4dc3-8844-c4a648b2053b",
   "metadata": {},
   "outputs": [],
   "source": [
    "#For example, a SOAP API that exposes functionality to create a user might include a function called\n",
    "#\"CreateUser\" that would be specified in the SOAP body. A REST API would instead expose a URL /users, and a POST \n",
    "#request towards that URL would create a user."
   ]
  },
  {
   "cell_type": "code",
   "execution_count": null,
   "id": "3b78956d-e036-4e50-80c9-4732652eb5e3",
   "metadata": {},
   "outputs": [],
   "source": []
  },
  {
   "cell_type": "code",
   "execution_count": null,
   "id": "6b5ee54c-5c0a-4d0f-8fa1-2e4b680db86c",
   "metadata": {},
   "outputs": [],
   "source": []
  }
 ],
 "metadata": {
  "kernelspec": {
   "display_name": "Python 3 (ipykernel)",
   "language": "python",
   "name": "python3"
  },
  "language_info": {
   "codemirror_mode": {
    "name": "ipython",
    "version": 3
   },
   "file_extension": ".py",
   "mimetype": "text/x-python",
   "name": "python",
   "nbconvert_exporter": "python",
   "pygments_lexer": "ipython3",
   "version": "3.10.8"
  }
 },
 "nbformat": 4,
 "nbformat_minor": 5
}
